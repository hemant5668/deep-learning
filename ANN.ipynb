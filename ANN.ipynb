{
  "nbformat": 4,
  "nbformat_minor": 0,
  "metadata": {
    "kernelspec": {
      "display_name": "Python 3",
      "language": "python",
      "name": "python3"
    },
    "language_info": {
      "codemirror_mode": {
        "name": "ipython",
        "version": 3
      },
      "file_extension": ".py",
      "mimetype": "text/x-python",
      "name": "python",
      "nbconvert_exporter": "python",
      "pygments_lexer": "ipython3",
      "version": "3.7.3"
    },
    "colab": {
      "name": "ANN.ipynb",
      "version": "0.3.2",
      "provenance": [],
      "collapsed_sections": [],
      "include_colab_link": true
    }
  },
  "cells": [
    {
      "cell_type": "markdown",
      "metadata": {
        "id": "view-in-github",
        "colab_type": "text"
      },
      "source": [
        "<a href=\"https://colab.research.google.com/github/hemant5668/deep-learning/blob/master/ANN.ipynb\" target=\"_parent\"><img src=\"https://colab.research.google.com/assets/colab-badge.svg\" alt=\"Open In Colab\"/></a>"
      ]
    },
    {
      "cell_type": "markdown",
      "metadata": {
        "id": "tJHLCbj1zysz",
        "colab_type": "text"
      },
      "source": [
        "\n",
        "# part 1 Data Processing"
      ]
    },
    {
      "cell_type": "code",
      "metadata": {
        "id": "kicCTo37zys9",
        "colab_type": "code",
        "colab": {}
      },
      "source": [
        "import pandas as pd\n",
        "import numpy as np\n",
        "import matplotlib.pyplot as plt\n"
      ],
      "execution_count": 0,
      "outputs": []
    },
    {
      "cell_type": "code",
      "metadata": {
        "id": "Ekh_GAm9z8aO",
        "colab_type": "code",
        "outputId": "7d6119d7-738b-4bc9-b0bd-904b107f8609",
        "colab": {
          "resources": {
            "http://localhost:8080/nbextensions/google.colab/files.js": {
              "data": "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",
              "ok": true,
              "headers": [
                [
                  "content-type",
                  "application/javascript"
                ]
              ],
              "status": 200,
              "status_text": "OK"
            }
          },
          "base_uri": "https://localhost:8080/",
          "height": 75
        }
      },
      "source": [
        "from google.colab import files\n",
        "uploaded = files.upload()"
      ],
      "execution_count": 0,
      "outputs": [
        {
          "output_type": "display_data",
          "data": {
            "text/html": [
              "\n",
              "     <input type=\"file\" id=\"files-b107ef33-e2e6-4678-8dd9-cfcd94621880\" name=\"files[]\" multiple disabled />\n",
              "     <output id=\"result-b107ef33-e2e6-4678-8dd9-cfcd94621880\">\n",
              "      Upload widget is only available when the cell has been executed in the\n",
              "      current browser session. Please rerun this cell to enable.\n",
              "      </output>\n",
              "      <script src=\"/nbextensions/google.colab/files.js\"></script> "
            ],
            "text/plain": [
              "<IPython.core.display.HTML object>"
            ]
          },
          "metadata": {
            "tags": []
          }
        },
        {
          "output_type": "stream",
          "text": [
            "Saving Churn_Modelling.csv to Churn_Modelling.csv\n"
          ],
          "name": "stdout"
        }
      ]
    },
    {
      "cell_type": "code",
      "metadata": {
        "id": "wqmtulp9Ev6f",
        "colab_type": "code",
        "colab": {}
      },
      "source": [
        ""
      ],
      "execution_count": 0,
      "outputs": []
    },
    {
      "cell_type": "code",
      "metadata": {
        "id": "sHr3X52OzytU",
        "colab_type": "code",
        "colab": {}
      },
      "source": [
        "import io\n",
        "dataset = pd.read_csv(io.BytesIO(uploaded['Churn_Modelling.csv']))"
      ],
      "execution_count": 0,
      "outputs": []
    },
    {
      "cell_type": "code",
      "metadata": {
        "id": "1jgj6Cuwzyth",
        "colab_type": "code",
        "outputId": "461a4f30-846e-407a-f1b9-944ed49e3ec9",
        "colab": {
          "base_uri": "https://localhost:8080/",
          "height": 226
        }
      },
      "source": [
        "dataset.head(5)"
      ],
      "execution_count": 0,
      "outputs": [
        {
          "output_type": "execute_result",
          "data": {
            "text/html": [
              "<div>\n",
              "<style scoped>\n",
              "    .dataframe tbody tr th:only-of-type {\n",
              "        vertical-align: middle;\n",
              "    }\n",
              "\n",
              "    .dataframe tbody tr th {\n",
              "        vertical-align: top;\n",
              "    }\n",
              "\n",
              "    .dataframe thead th {\n",
              "        text-align: right;\n",
              "    }\n",
              "</style>\n",
              "<table border=\"1\" class=\"dataframe\">\n",
              "  <thead>\n",
              "    <tr style=\"text-align: right;\">\n",
              "      <th></th>\n",
              "      <th>RowNumber</th>\n",
              "      <th>CustomerId</th>\n",
              "      <th>Surname</th>\n",
              "      <th>CreditScore</th>\n",
              "      <th>Geography</th>\n",
              "      <th>Gender</th>\n",
              "      <th>Age</th>\n",
              "      <th>Tenure</th>\n",
              "      <th>Balance</th>\n",
              "      <th>NumOfProducts</th>\n",
              "      <th>HasCrCard</th>\n",
              "      <th>IsActiveMember</th>\n",
              "      <th>EstimatedSalary</th>\n",
              "      <th>Exited</th>\n",
              "    </tr>\n",
              "  </thead>\n",
              "  <tbody>\n",
              "    <tr>\n",
              "      <th>0</th>\n",
              "      <td>1</td>\n",
              "      <td>15634602</td>\n",
              "      <td>Hargrave</td>\n",
              "      <td>619</td>\n",
              "      <td>France</td>\n",
              "      <td>Female</td>\n",
              "      <td>42</td>\n",
              "      <td>2</td>\n",
              "      <td>0.00</td>\n",
              "      <td>1</td>\n",
              "      <td>1</td>\n",
              "      <td>1</td>\n",
              "      <td>101348.88</td>\n",
              "      <td>1</td>\n",
              "    </tr>\n",
              "    <tr>\n",
              "      <th>1</th>\n",
              "      <td>2</td>\n",
              "      <td>15647311</td>\n",
              "      <td>Hill</td>\n",
              "      <td>608</td>\n",
              "      <td>Spain</td>\n",
              "      <td>Female</td>\n",
              "      <td>41</td>\n",
              "      <td>1</td>\n",
              "      <td>83807.86</td>\n",
              "      <td>1</td>\n",
              "      <td>0</td>\n",
              "      <td>1</td>\n",
              "      <td>112542.58</td>\n",
              "      <td>0</td>\n",
              "    </tr>\n",
              "    <tr>\n",
              "      <th>2</th>\n",
              "      <td>3</td>\n",
              "      <td>15619304</td>\n",
              "      <td>Onio</td>\n",
              "      <td>502</td>\n",
              "      <td>France</td>\n",
              "      <td>Female</td>\n",
              "      <td>42</td>\n",
              "      <td>8</td>\n",
              "      <td>159660.80</td>\n",
              "      <td>3</td>\n",
              "      <td>1</td>\n",
              "      <td>0</td>\n",
              "      <td>113931.57</td>\n",
              "      <td>1</td>\n",
              "    </tr>\n",
              "    <tr>\n",
              "      <th>3</th>\n",
              "      <td>4</td>\n",
              "      <td>15701354</td>\n",
              "      <td>Boni</td>\n",
              "      <td>699</td>\n",
              "      <td>France</td>\n",
              "      <td>Female</td>\n",
              "      <td>39</td>\n",
              "      <td>1</td>\n",
              "      <td>0.00</td>\n",
              "      <td>2</td>\n",
              "      <td>0</td>\n",
              "      <td>0</td>\n",
              "      <td>93826.63</td>\n",
              "      <td>0</td>\n",
              "    </tr>\n",
              "    <tr>\n",
              "      <th>4</th>\n",
              "      <td>5</td>\n",
              "      <td>15737888</td>\n",
              "      <td>Mitchell</td>\n",
              "      <td>850</td>\n",
              "      <td>Spain</td>\n",
              "      <td>Female</td>\n",
              "      <td>43</td>\n",
              "      <td>2</td>\n",
              "      <td>125510.82</td>\n",
              "      <td>1</td>\n",
              "      <td>1</td>\n",
              "      <td>1</td>\n",
              "      <td>79084.10</td>\n",
              "      <td>0</td>\n",
              "    </tr>\n",
              "  </tbody>\n",
              "</table>\n",
              "</div>"
            ],
            "text/plain": [
              "   RowNumber  CustomerId   Surname  ...  IsActiveMember EstimatedSalary Exited\n",
              "0          1    15634602  Hargrave  ...               1       101348.88      1\n",
              "1          2    15647311      Hill  ...               1       112542.58      0\n",
              "2          3    15619304      Onio  ...               0       113931.57      1\n",
              "3          4    15701354      Boni  ...               0        93826.63      0\n",
              "4          5    15737888  Mitchell  ...               1        79084.10      0\n",
              "\n",
              "[5 rows x 14 columns]"
            ]
          },
          "metadata": {
            "tags": []
          },
          "execution_count": 4
        }
      ]
    },
    {
      "cell_type": "code",
      "metadata": {
        "id": "-JV21Uf0zytt",
        "colab_type": "code",
        "colab": {}
      },
      "source": [
        "x=dataset.iloc[ : ,3:13].values\n",
        "y=dataset.iloc[ : ,13].values"
      ],
      "execution_count": 0,
      "outputs": []
    },
    {
      "cell_type": "code",
      "metadata": {
        "id": "PZo3SYgvzyt4",
        "colab_type": "code",
        "outputId": "eb6f0a09-c190-4d45-8729-dd0760d866db",
        "colab": {
          "base_uri": "https://localhost:8080/",
          "height": 148
        }
      },
      "source": [
        "from sklearn.preprocessing import LabelEncoder,OneHotEncoder\n",
        "labelencoder1=LabelEncoder()\n",
        "x[:,1]=labelencoder1.fit_transform(x[:,1])\n",
        "labelencoder2=LabelEncoder()\n",
        "x[:,2]=labelencoder2.fit_transform(x[:,2])\n",
        "onehotencoder=OneHotEncoder(categorical_features=[1])\n",
        "x=onehotencoder.fit_transform(x).toarray()\n"
      ],
      "execution_count": 0,
      "outputs": [
        {
          "output_type": "stream",
          "text": [
            "/usr/local/lib/python3.6/dist-packages/sklearn/preprocessing/_encoders.py:415: FutureWarning: The handling of integer data will change in version 0.22. Currently, the categories are determined based on the range [0, max(values)], while in the future they will be determined based on the unique values.\n",
            "If you want the future behaviour and silence this warning, you can specify \"categories='auto'\".\n",
            "In case you used a LabelEncoder before this OneHotEncoder to convert the categories to integers, then you can now use the OneHotEncoder directly.\n",
            "  warnings.warn(msg, FutureWarning)\n",
            "/usr/local/lib/python3.6/dist-packages/sklearn/preprocessing/_encoders.py:451: DeprecationWarning: The 'categorical_features' keyword is deprecated in version 0.20 and will be removed in 0.22. You can use the ColumnTransformer instead.\n",
            "  \"use the ColumnTransformer instead.\", DeprecationWarning)\n"
          ],
          "name": "stderr"
        }
      ]
    },
    {
      "cell_type": "code",
      "metadata": {
        "id": "4iOncOpdzyuB",
        "colab_type": "code",
        "colab": {}
      },
      "source": [
        "X=x[ : ,1:]"
      ],
      "execution_count": 0,
      "outputs": []
    },
    {
      "cell_type": "code",
      "metadata": {
        "id": "NGXMWU8a1oFC",
        "colab_type": "code",
        "colab": {}
      },
      "source": [
        "#split the data\n",
        "from sklearn.model_selection import train_test_split\n",
        "x_train,x_test,y_train,y_test=train_test_split(X,y,test_size=0.2)"
      ],
      "execution_count": 0,
      "outputs": []
    },
    {
      "cell_type": "code",
      "metadata": {
        "id": "nvgSYMbr4FiK",
        "colab_type": "code",
        "colab": {}
      },
      "source": [
        "#standardise the data\n",
        "from sklearn.preprocessing import StandardScaler\n",
        "sc=StandardScaler()\n",
        "X_train=sc.fit_transform(x_train)\n",
        "X_test=sc.fit_transform(x_test)"
      ],
      "execution_count": 0,
      "outputs": []
    },
    {
      "cell_type": "code",
      "metadata": {
        "id": "K-dXyrx-EgS2",
        "colab_type": "code",
        "outputId": "4745afb0-00e2-4353-ae7c-c4728bb31f6e",
        "colab": {
          "base_uri": "https://localhost:8080/",
          "height": 36
        }
      },
      "source": [
        "import keras"
      ],
      "execution_count": 0,
      "outputs": [
        {
          "output_type": "stream",
          "text": [
            "Using TensorFlow backend.\n"
          ],
          "name": "stderr"
        }
      ]
    },
    {
      "cell_type": "code",
      "metadata": {
        "id": "RH3JEMUIEigS",
        "colab_type": "code",
        "colab": {}
      },
      "source": [
        "from keras.models import Sequential\n",
        "from keras.layers import Dense"
      ],
      "execution_count": 0,
      "outputs": []
    },
    {
      "cell_type": "code",
      "metadata": {
        "id": "hK3mz6QSLZgq",
        "colab_type": "code",
        "outputId": "6696268f-623a-484f-8572-36e76e7e9036",
        "colab": {
          "base_uri": "https://localhost:8080/",
          "height": 93
        }
      },
      "source": [
        "classifier=Sequential()"
      ],
      "execution_count": 0,
      "outputs": [
        {
          "output_type": "stream",
          "text": [
            "WARNING: Logging before flag parsing goes to stderr.\n",
            "W0819 19:10:36.483318 139846355142528 deprecation_wrapper.py:119] From /usr/local/lib/python3.6/dist-packages/keras/backend/tensorflow_backend.py:74: The name tf.get_default_graph is deprecated. Please use tf.compat.v1.get_default_graph instead.\n",
            "\n"
          ],
          "name": "stderr"
        }
      ]
    },
    {
      "cell_type": "code",
      "metadata": {
        "id": "XTdGp67cHgLL",
        "colab_type": "code",
        "outputId": "98dc23aa-1b3f-4ae0-f9bb-b177a9a7145a",
        "colab": {
          "base_uri": "https://localhost:8080/",
          "height": 111
        }
      },
      "source": [
        "#input layer and first hidden layer\n",
        "classifier.add(Dense(6,activation='relu',kernel_initializer='uniform',input_dim=11))"
      ],
      "execution_count": 0,
      "outputs": [
        {
          "output_type": "stream",
          "text": [
            "W0819 19:10:36.549802 139846355142528 deprecation_wrapper.py:119] From /usr/local/lib/python3.6/dist-packages/keras/backend/tensorflow_backend.py:517: The name tf.placeholder is deprecated. Please use tf.compat.v1.placeholder instead.\n",
            "\n",
            "W0819 19:10:36.574696 139846355142528 deprecation_wrapper.py:119] From /usr/local/lib/python3.6/dist-packages/keras/backend/tensorflow_backend.py:4138: The name tf.random_uniform is deprecated. Please use tf.random.uniform instead.\n",
            "\n"
          ],
          "name": "stderr"
        }
      ]
    },
    {
      "cell_type": "code",
      "metadata": {
        "id": "jJmnOSX3LPEN",
        "colab_type": "code",
        "colab": {}
      },
      "source": [
        "#second hidden layer\n",
        "classifier.add(Dense(6,activation='relu',kernel_initializer='uniform'))"
      ],
      "execution_count": 0,
      "outputs": []
    },
    {
      "cell_type": "code",
      "metadata": {
        "id": "VRSXSe3BN6F3",
        "colab_type": "code",
        "colab": {}
      },
      "source": [
        "#output layer\n",
        "classifier.add(Dense(1,activation='sigmoid',kernel_initializer='uniform'))"
      ],
      "execution_count": 0,
      "outputs": []
    },
    {
      "cell_type": "code",
      "metadata": {
        "id": "yTApTLLnPLEm",
        "colab_type": "code",
        "outputId": "587fd4ed-b4fc-4a6b-fa6b-1ff1ae6ad665",
        "colab": {
          "base_uri": "https://localhost:8080/",
          "height": 167
        }
      },
      "source": [
        "classifier.compile(optimizer='adam',loss='binary_crossentropy',metrics=['accuracy'])"
      ],
      "execution_count": 0,
      "outputs": [
        {
          "output_type": "stream",
          "text": [
            "W0819 19:10:36.680984 139846355142528 deprecation_wrapper.py:119] From /usr/local/lib/python3.6/dist-packages/keras/optimizers.py:790: The name tf.train.Optimizer is deprecated. Please use tf.compat.v1.train.Optimizer instead.\n",
            "\n",
            "W0819 19:10:36.718236 139846355142528 deprecation_wrapper.py:119] From /usr/local/lib/python3.6/dist-packages/keras/backend/tensorflow_backend.py:3376: The name tf.log is deprecated. Please use tf.math.log instead.\n",
            "\n",
            "W0819 19:10:36.729619 139846355142528 deprecation.py:323] From /usr/local/lib/python3.6/dist-packages/tensorflow/python/ops/nn_impl.py:180: add_dispatch_support.<locals>.wrapper (from tensorflow.python.ops.array_ops) is deprecated and will be removed in a future version.\n",
            "Instructions for updating:\n",
            "Use tf.where in 2.0, which has the same broadcast rule as np.where\n"
          ],
          "name": "stderr"
        }
      ]
    },
    {
      "cell_type": "code",
      "metadata": {
        "id": "bVx4FXXIUtfC",
        "colab_type": "code",
        "outputId": "fe53d06a-f71d-4058-b497-c424dd221b58",
        "colab": {
          "base_uri": "https://localhost:8080/",
          "height": 1000
        }
      },
      "source": [
        "classifier.fit(X_train,y_train,batch_size=10,epochs=100)"
      ],
      "execution_count": 0,
      "outputs": [
        {
          "output_type": "stream",
          "text": [
            "W0819 19:10:37.010767 139846355142528 deprecation_wrapper.py:119] From /usr/local/lib/python3.6/dist-packages/keras/backend/tensorflow_backend.py:986: The name tf.assign_add is deprecated. Please use tf.compat.v1.assign_add instead.\n",
            "\n"
          ],
          "name": "stderr"
        },
        {
          "output_type": "stream",
          "text": [
            "Epoch 1/100\n",
            "8000/8000 [==============================] - 2s 208us/step - loss: 0.4772 - acc: 0.7974\n",
            "Epoch 2/100\n",
            "8000/8000 [==============================] - 1s 116us/step - loss: 0.4249 - acc: 0.7974\n",
            "Epoch 3/100\n",
            "8000/8000 [==============================] - 1s 115us/step - loss: 0.4183 - acc: 0.8079\n",
            "Epoch 4/100\n",
            "8000/8000 [==============================] - 1s 113us/step - loss: 0.4142 - acc: 0.8296\n",
            "Epoch 5/100\n",
            "8000/8000 [==============================] - 1s 118us/step - loss: 0.4117 - acc: 0.8320\n",
            "Epoch 6/100\n",
            "8000/8000 [==============================] - 1s 120us/step - loss: 0.4096 - acc: 0.8332\n",
            "Epoch 7/100\n",
            "8000/8000 [==============================] - 1s 118us/step - loss: 0.4085 - acc: 0.8351\n",
            "Epoch 8/100\n",
            "8000/8000 [==============================] - 1s 118us/step - loss: 0.4066 - acc: 0.8360\n",
            "Epoch 9/100\n",
            "8000/8000 [==============================] - 1s 116us/step - loss: 0.4059 - acc: 0.8372\n",
            "Epoch 10/100\n",
            "8000/8000 [==============================] - 1s 117us/step - loss: 0.4048 - acc: 0.8375\n",
            "Epoch 11/100\n",
            "8000/8000 [==============================] - 1s 117us/step - loss: 0.4041 - acc: 0.8376\n",
            "Epoch 12/100\n",
            "8000/8000 [==============================] - 1s 116us/step - loss: 0.4037 - acc: 0.8380\n",
            "Epoch 13/100\n",
            "8000/8000 [==============================] - 1s 118us/step - loss: 0.4034 - acc: 0.8380\n",
            "Epoch 14/100\n",
            "8000/8000 [==============================] - 1s 120us/step - loss: 0.4027 - acc: 0.8382\n",
            "Epoch 15/100\n",
            "8000/8000 [==============================] - 1s 114us/step - loss: 0.4018 - acc: 0.8379\n",
            "Epoch 16/100\n",
            "8000/8000 [==============================] - 1s 120us/step - loss: 0.4014 - acc: 0.8374\n",
            "Epoch 17/100\n",
            "8000/8000 [==============================] - 1s 113us/step - loss: 0.4015 - acc: 0.8379\n",
            "Epoch 18/100\n",
            "8000/8000 [==============================] - 1s 119us/step - loss: 0.4012 - acc: 0.8364\n",
            "Epoch 19/100\n",
            "8000/8000 [==============================] - 1s 117us/step - loss: 0.4004 - acc: 0.8376\n",
            "Epoch 20/100\n",
            "8000/8000 [==============================] - 1s 115us/step - loss: 0.4007 - acc: 0.8381\n",
            "Epoch 21/100\n",
            "8000/8000 [==============================] - 1s 115us/step - loss: 0.4004 - acc: 0.8382\n",
            "Epoch 22/100\n",
            "8000/8000 [==============================] - 1s 115us/step - loss: 0.4003 - acc: 0.8390\n",
            "Epoch 23/100\n",
            "8000/8000 [==============================] - 1s 117us/step - loss: 0.3999 - acc: 0.8367\n",
            "Epoch 24/100\n",
            "8000/8000 [==============================] - 1s 116us/step - loss: 0.4000 - acc: 0.8382\n",
            "Epoch 25/100\n",
            "8000/8000 [==============================] - 1s 116us/step - loss: 0.4000 - acc: 0.8381\n",
            "Epoch 26/100\n",
            "8000/8000 [==============================] - 1s 114us/step - loss: 0.3997 - acc: 0.8389\n",
            "Epoch 27/100\n",
            "8000/8000 [==============================] - 1s 122us/step - loss: 0.3992 - acc: 0.8374\n",
            "Epoch 28/100\n",
            "8000/8000 [==============================] - 1s 118us/step - loss: 0.3992 - acc: 0.8392\n",
            "Epoch 29/100\n",
            "8000/8000 [==============================] - 1s 124us/step - loss: 0.3996 - acc: 0.8382\n",
            "Epoch 30/100\n",
            "8000/8000 [==============================] - 1s 119us/step - loss: 0.3987 - acc: 0.8374\n",
            "Epoch 31/100\n",
            "8000/8000 [==============================] - 1s 118us/step - loss: 0.3991 - acc: 0.8396\n",
            "Epoch 32/100\n",
            "8000/8000 [==============================] - 1s 120us/step - loss: 0.3994 - acc: 0.8379\n",
            "Epoch 33/100\n",
            "8000/8000 [==============================] - 1s 119us/step - loss: 0.3992 - acc: 0.8375\n",
            "Epoch 34/100\n",
            "8000/8000 [==============================] - 1s 118us/step - loss: 0.3986 - acc: 0.8387\n",
            "Epoch 35/100\n",
            "8000/8000 [==============================] - 1s 122us/step - loss: 0.3993 - acc: 0.8375\n",
            "Epoch 36/100\n",
            "8000/8000 [==============================] - 1s 119us/step - loss: 0.3984 - acc: 0.8384\n",
            "Epoch 37/100\n",
            "8000/8000 [==============================] - 1s 119us/step - loss: 0.3989 - acc: 0.8377\n",
            "Epoch 38/100\n",
            "8000/8000 [==============================] - 1s 119us/step - loss: 0.3976 - acc: 0.8399\n",
            "Epoch 39/100\n",
            "8000/8000 [==============================] - 1s 124us/step - loss: 0.3987 - acc: 0.8392\n",
            "Epoch 40/100\n",
            "8000/8000 [==============================] - 1s 121us/step - loss: 0.3986 - acc: 0.8376\n",
            "Epoch 41/100\n",
            "8000/8000 [==============================] - 1s 119us/step - loss: 0.3984 - acc: 0.8356\n",
            "Epoch 42/100\n",
            "8000/8000 [==============================] - 1s 116us/step - loss: 0.3982 - acc: 0.8389\n",
            "Epoch 43/100\n",
            "8000/8000 [==============================] - 1s 118us/step - loss: 0.3987 - acc: 0.8387\n",
            "Epoch 44/100\n",
            "8000/8000 [==============================] - 1s 118us/step - loss: 0.3985 - acc: 0.8381\n",
            "Epoch 45/100\n",
            "8000/8000 [==============================] - 1s 118us/step - loss: 0.3984 - acc: 0.8396\n",
            "Epoch 46/100\n",
            "8000/8000 [==============================] - 1s 122us/step - loss: 0.3979 - acc: 0.8381\n",
            "Epoch 47/100\n",
            "8000/8000 [==============================] - 1s 118us/step - loss: 0.3987 - acc: 0.8379\n",
            "Epoch 48/100\n",
            "8000/8000 [==============================] - 1s 118us/step - loss: 0.3983 - acc: 0.8394\n",
            "Epoch 49/100\n",
            "8000/8000 [==============================] - 1s 115us/step - loss: 0.3979 - acc: 0.8390\n",
            "Epoch 50/100\n",
            "8000/8000 [==============================] - 1s 118us/step - loss: 0.3980 - acc: 0.8394\n",
            "Epoch 51/100\n",
            "8000/8000 [==============================] - 1s 116us/step - loss: 0.3981 - acc: 0.8380\n",
            "Epoch 52/100\n",
            "8000/8000 [==============================] - 1s 116us/step - loss: 0.3986 - acc: 0.8371\n",
            "Epoch 53/100\n",
            "8000/8000 [==============================] - 1s 117us/step - loss: 0.3983 - acc: 0.8382\n",
            "Epoch 54/100\n",
            "8000/8000 [==============================] - 1s 119us/step - loss: 0.3978 - acc: 0.8391\n",
            "Epoch 55/100\n",
            "8000/8000 [==============================] - 1s 118us/step - loss: 0.3979 - acc: 0.8384\n",
            "Epoch 56/100\n",
            "8000/8000 [==============================] - 1s 115us/step - loss: 0.3980 - acc: 0.8387\n",
            "Epoch 57/100\n",
            "8000/8000 [==============================] - 1s 118us/step - loss: 0.3980 - acc: 0.8389\n",
            "Epoch 58/100\n",
            "8000/8000 [==============================] - 1s 117us/step - loss: 0.3977 - acc: 0.8419\n",
            "Epoch 59/100\n",
            "8000/8000 [==============================] - 1s 117us/step - loss: 0.3977 - acc: 0.8381\n",
            "Epoch 60/100\n",
            "8000/8000 [==============================] - 1s 116us/step - loss: 0.3981 - acc: 0.8396\n",
            "Epoch 61/100\n",
            "8000/8000 [==============================] - 1s 118us/step - loss: 0.3973 - acc: 0.8385\n",
            "Epoch 62/100\n",
            "8000/8000 [==============================] - 1s 121us/step - loss: 0.3980 - acc: 0.8381\n",
            "Epoch 63/100\n",
            "8000/8000 [==============================] - 1s 118us/step - loss: 0.3978 - acc: 0.8387\n",
            "Epoch 64/100\n",
            "8000/8000 [==============================] - 1s 120us/step - loss: 0.3976 - acc: 0.8391\n",
            "Epoch 65/100\n",
            "8000/8000 [==============================] - 1s 115us/step - loss: 0.3978 - acc: 0.8390\n",
            "Epoch 66/100\n",
            "8000/8000 [==============================] - 1s 114us/step - loss: 0.3978 - acc: 0.8387\n",
            "Epoch 67/100\n",
            "8000/8000 [==============================] - 1s 117us/step - loss: 0.3976 - acc: 0.8392\n",
            "Epoch 68/100\n",
            "8000/8000 [==============================] - 1s 115us/step - loss: 0.3978 - acc: 0.8391\n",
            "Epoch 69/100\n",
            "8000/8000 [==============================] - 1s 117us/step - loss: 0.3977 - acc: 0.8382\n",
            "Epoch 70/100\n",
            "8000/8000 [==============================] - 1s 118us/step - loss: 0.3977 - acc: 0.8382\n",
            "Epoch 71/100\n",
            "8000/8000 [==============================] - 1s 113us/step - loss: 0.3978 - acc: 0.8377\n",
            "Epoch 72/100\n",
            "8000/8000 [==============================] - 1s 118us/step - loss: 0.3972 - acc: 0.8391\n",
            "Epoch 73/100\n",
            "8000/8000 [==============================] - 1s 118us/step - loss: 0.3981 - acc: 0.8391\n",
            "Epoch 74/100\n",
            "8000/8000 [==============================] - 1s 116us/step - loss: 0.3978 - acc: 0.8379\n",
            "Epoch 75/100\n",
            "8000/8000 [==============================] - 1s 112us/step - loss: 0.3978 - acc: 0.8382\n",
            "Epoch 76/100\n",
            "8000/8000 [==============================] - 1s 116us/step - loss: 0.3973 - acc: 0.8384\n",
            "Epoch 77/100\n",
            "8000/8000 [==============================] - 1s 118us/step - loss: 0.3974 - acc: 0.8395\n",
            "Epoch 78/100\n",
            "8000/8000 [==============================] - 1s 116us/step - loss: 0.3977 - acc: 0.8390\n",
            "Epoch 79/100\n",
            "8000/8000 [==============================] - 1s 114us/step - loss: 0.3983 - acc: 0.8375\n",
            "Epoch 80/100\n",
            "8000/8000 [==============================] - 1s 117us/step - loss: 0.3975 - acc: 0.8381\n",
            "Epoch 81/100\n",
            "8000/8000 [==============================] - 1s 114us/step - loss: 0.3976 - acc: 0.8389\n",
            "Epoch 82/100\n",
            "8000/8000 [==============================] - 1s 115us/step - loss: 0.3979 - acc: 0.8382\n",
            "Epoch 83/100\n",
            "8000/8000 [==============================] - 1s 115us/step - loss: 0.3974 - acc: 0.8396\n",
            "Epoch 84/100\n",
            "8000/8000 [==============================] - 1s 116us/step - loss: 0.3972 - acc: 0.8385\n",
            "Epoch 85/100\n",
            "8000/8000 [==============================] - 1s 115us/step - loss: 0.3976 - acc: 0.8375\n",
            "Epoch 86/100\n",
            "8000/8000 [==============================] - 1s 115us/step - loss: 0.3977 - acc: 0.8391\n",
            "Epoch 87/100\n",
            "8000/8000 [==============================] - 1s 116us/step - loss: 0.3972 - acc: 0.8391\n",
            "Epoch 88/100\n",
            "8000/8000 [==============================] - 1s 114us/step - loss: 0.3978 - acc: 0.8395\n",
            "Epoch 89/100\n",
            "8000/8000 [==============================] - 1s 117us/step - loss: 0.3975 - acc: 0.8389\n",
            "Epoch 90/100\n",
            "8000/8000 [==============================] - 1s 120us/step - loss: 0.3978 - acc: 0.8377\n",
            "Epoch 91/100\n",
            "8000/8000 [==============================] - 1s 117us/step - loss: 0.3974 - acc: 0.8386\n",
            "Epoch 92/100\n",
            "8000/8000 [==============================] - 1s 119us/step - loss: 0.3977 - acc: 0.8370\n",
            "Epoch 93/100\n",
            "8000/8000 [==============================] - 1s 126us/step - loss: 0.3975 - acc: 0.8385\n",
            "Epoch 94/100\n",
            "8000/8000 [==============================] - 1s 121us/step - loss: 0.3976 - acc: 0.8374\n",
            "Epoch 95/100\n",
            "8000/8000 [==============================] - 1s 118us/step - loss: 0.3975 - acc: 0.8386\n",
            "Epoch 96/100\n",
            "8000/8000 [==============================] - 1s 118us/step - loss: 0.3976 - acc: 0.8396\n",
            "Epoch 97/100\n",
            "8000/8000 [==============================] - 1s 119us/step - loss: 0.3974 - acc: 0.8382\n",
            "Epoch 98/100\n",
            "8000/8000 [==============================] - 1s 116us/step - loss: 0.3966 - acc: 0.8372\n",
            "Epoch 99/100\n",
            "8000/8000 [==============================] - 1s 119us/step - loss: 0.3969 - acc: 0.8390\n",
            "Epoch 100/100\n",
            "8000/8000 [==============================] - 1s 126us/step - loss: 0.3975 - acc: 0.8380\n"
          ],
          "name": "stdout"
        },
        {
          "output_type": "execute_result",
          "data": {
            "text/plain": [
              "<keras.callbacks.History at 0x7f30613d9c88>"
            ]
          },
          "metadata": {
            "tags": []
          },
          "execution_count": 17
        }
      ]
    },
    {
      "cell_type": "code",
      "metadata": {
        "id": "OIfuUz3qW4OF",
        "colab_type": "code",
        "colab": {}
      },
      "source": [
        "y_pred=classifier.predict(X_test)"
      ],
      "execution_count": 0,
      "outputs": []
    },
    {
      "cell_type": "code",
      "metadata": {
        "id": "d40YG1hVaRij",
        "colab_type": "code",
        "colab": {}
      },
      "source": [
        "y_pred=(y_pred>0.5)"
      ],
      "execution_count": 0,
      "outputs": []
    },
    {
      "cell_type": "code",
      "metadata": {
        "id": "BcLLZ0AOaTVd",
        "colab_type": "code",
        "colab": {}
      },
      "source": [
        "from sklearn.metrics import classification_report,confusion_matrix"
      ],
      "execution_count": 0,
      "outputs": []
    },
    {
      "cell_type": "code",
      "metadata": {
        "id": "N3k3-0mISLwm",
        "colab_type": "code",
        "colab": {}
      },
      "source": [
        ""
      ],
      "execution_count": 0,
      "outputs": []
    },
    {
      "cell_type": "code",
      "metadata": {
        "id": "6mTml8Tha3Wm",
        "colab_type": "code",
        "outputId": "aa324582-4f9d-4044-ad5d-13892af97a9d",
        "colab": {
          "base_uri": "https://localhost:8080/",
          "height": 221
        }
      },
      "source": [
        "print(confusion_matrix(y_test,y_pred))\n",
        "'\\n'\n",
        "print(classification_report(y_test,y_pred))"
      ],
      "execution_count": 0,
      "outputs": [
        {
          "output_type": "stream",
          "text": [
            "[[1530   54]\n",
            " [ 287  129]]\n",
            "              precision    recall  f1-score   support\n",
            "\n",
            "           0       0.84      0.97      0.90      1584\n",
            "           1       0.70      0.31      0.43       416\n",
            "\n",
            "    accuracy                           0.83      2000\n",
            "   macro avg       0.77      0.64      0.67      2000\n",
            "weighted avg       0.81      0.83      0.80      2000\n",
            "\n"
          ],
          "name": "stdout"
        }
      ]
    },
    {
      "cell_type": "code",
      "metadata": {
        "id": "FvrmAky9TzS6",
        "colab_type": "code",
        "colab": {}
      },
      "source": [
        "Z=pd.DataFrame(X)"
      ],
      "execution_count": 0,
      "outputs": []
    },
    {
      "cell_type": "code",
      "metadata": {
        "id": "ub1rnsTAURN0",
        "colab_type": "code",
        "outputId": "4f1c5c0b-cb1e-4236-9942-4d5824e5c201",
        "colab": {
          "base_uri": "https://localhost:8080/",
          "height": 206
        }
      },
      "source": [
        "Z.head()"
      ],
      "execution_count": 0,
      "outputs": [
        {
          "output_type": "execute_result",
          "data": {
            "text/html": [
              "<div>\n",
              "<style scoped>\n",
              "    .dataframe tbody tr th:only-of-type {\n",
              "        vertical-align: middle;\n",
              "    }\n",
              "\n",
              "    .dataframe tbody tr th {\n",
              "        vertical-align: top;\n",
              "    }\n",
              "\n",
              "    .dataframe thead th {\n",
              "        text-align: right;\n",
              "    }\n",
              "</style>\n",
              "<table border=\"1\" class=\"dataframe\">\n",
              "  <thead>\n",
              "    <tr style=\"text-align: right;\">\n",
              "      <th></th>\n",
              "      <th>0</th>\n",
              "      <th>1</th>\n",
              "      <th>2</th>\n",
              "      <th>3</th>\n",
              "      <th>4</th>\n",
              "      <th>5</th>\n",
              "      <th>6</th>\n",
              "      <th>7</th>\n",
              "      <th>8</th>\n",
              "      <th>9</th>\n",
              "      <th>10</th>\n",
              "    </tr>\n",
              "  </thead>\n",
              "  <tbody>\n",
              "    <tr>\n",
              "      <th>0</th>\n",
              "      <td>0.0</td>\n",
              "      <td>0.0</td>\n",
              "      <td>619.0</td>\n",
              "      <td>0.0</td>\n",
              "      <td>42.0</td>\n",
              "      <td>2.0</td>\n",
              "      <td>0.00</td>\n",
              "      <td>1.0</td>\n",
              "      <td>1.0</td>\n",
              "      <td>1.0</td>\n",
              "      <td>101348.88</td>\n",
              "    </tr>\n",
              "    <tr>\n",
              "      <th>1</th>\n",
              "      <td>0.0</td>\n",
              "      <td>1.0</td>\n",
              "      <td>608.0</td>\n",
              "      <td>0.0</td>\n",
              "      <td>41.0</td>\n",
              "      <td>1.0</td>\n",
              "      <td>83807.86</td>\n",
              "      <td>1.0</td>\n",
              "      <td>0.0</td>\n",
              "      <td>1.0</td>\n",
              "      <td>112542.58</td>\n",
              "    </tr>\n",
              "    <tr>\n",
              "      <th>2</th>\n",
              "      <td>0.0</td>\n",
              "      <td>0.0</td>\n",
              "      <td>502.0</td>\n",
              "      <td>0.0</td>\n",
              "      <td>42.0</td>\n",
              "      <td>8.0</td>\n",
              "      <td>159660.80</td>\n",
              "      <td>3.0</td>\n",
              "      <td>1.0</td>\n",
              "      <td>0.0</td>\n",
              "      <td>113931.57</td>\n",
              "    </tr>\n",
              "    <tr>\n",
              "      <th>3</th>\n",
              "      <td>0.0</td>\n",
              "      <td>0.0</td>\n",
              "      <td>699.0</td>\n",
              "      <td>0.0</td>\n",
              "      <td>39.0</td>\n",
              "      <td>1.0</td>\n",
              "      <td>0.00</td>\n",
              "      <td>2.0</td>\n",
              "      <td>0.0</td>\n",
              "      <td>0.0</td>\n",
              "      <td>93826.63</td>\n",
              "    </tr>\n",
              "    <tr>\n",
              "      <th>4</th>\n",
              "      <td>0.0</td>\n",
              "      <td>1.0</td>\n",
              "      <td>850.0</td>\n",
              "      <td>0.0</td>\n",
              "      <td>43.0</td>\n",
              "      <td>2.0</td>\n",
              "      <td>125510.82</td>\n",
              "      <td>1.0</td>\n",
              "      <td>1.0</td>\n",
              "      <td>1.0</td>\n",
              "      <td>79084.10</td>\n",
              "    </tr>\n",
              "  </tbody>\n",
              "</table>\n",
              "</div>"
            ],
            "text/plain": [
              "    0    1      2    3     4    5          6    7    8    9          10\n",
              "0  0.0  0.0  619.0  0.0  42.0  2.0       0.00  1.0  1.0  1.0  101348.88\n",
              "1  0.0  1.0  608.0  0.0  41.0  1.0   83807.86  1.0  0.0  1.0  112542.58\n",
              "2  0.0  0.0  502.0  0.0  42.0  8.0  159660.80  3.0  1.0  0.0  113931.57\n",
              "3  0.0  0.0  699.0  0.0  39.0  1.0       0.00  2.0  0.0  0.0   93826.63\n",
              "4  0.0  1.0  850.0  0.0  43.0  2.0  125510.82  1.0  1.0  1.0   79084.10"
            ]
          },
          "metadata": {
            "tags": []
          },
          "execution_count": 29
        }
      ]
    },
    {
      "cell_type": "code",
      "metadata": {
        "id": "Y_ruON8DSNQ_",
        "colab_type": "code",
        "outputId": "809e973e-da08-4c6c-d189-b57ffa860d0f",
        "colab": {
          "base_uri": "https://localhost:8080/",
          "height": 56
        }
      },
      "source": [
        "# Predicting a single new observation\n",
        "\"\"\"Predict if the customer with the following informations will leave the bank:\n",
        "Geography: France\n",
        "Credit Score: 600\n",
        "Gender: Male\n",
        "Age: 40\n",
        "Tenure: 3\n",
        "Balance: 60000\n",
        "Number of Products: 2\n",
        "Has Credit Card: Yes\n",
        "Is Active Member: Yes\n",
        "Estimated Salary: 50000\"\"\""
      ],
      "execution_count": 0,
      "outputs": [
        {
          "output_type": "execute_result",
          "data": {
            "text/plain": [
              "'Predict if the customer with the following informations will leave the bank:\\nGeography: France\\nCredit Score: 600\\nGender: Male\\nAge: 40\\nTenure: 3\\nBalance: 60000\\nNumber of Products: 2\\nHas Credit Card: Yes\\nIs Active Member: Yes\\nEstimated Salary: 50000'"
            ]
          },
          "metadata": {
            "tags": []
          },
          "execution_count": 22
        }
      ]
    },
    {
      "cell_type": "code",
      "metadata": {
        "id": "0ZhgFGZWbPJs",
        "colab_type": "code",
        "colab": {}
      },
      "source": [
        "new=classifier.predict(sc.fit_transform(np.array([[0,0,600,1,40,3,60000,2,1,1,50000]])))"
      ],
      "execution_count": 0,
      "outputs": []
    },
    {
      "cell_type": "code",
      "metadata": {
        "id": "o3ffG5RjWM8t",
        "colab_type": "code",
        "colab": {
          "base_uri": "https://localhost:8080/",
          "height": 36
        },
        "outputId": "d7f33cea-a7f6-4cf6-d459-a7c64fefce97"
      },
      "source": [
        "print(new>0.5)"
      ],
      "execution_count": 33,
      "outputs": [
        {
          "output_type": "stream",
          "text": [
            "[[False]]\n"
          ],
          "name": "stdout"
        }
      ]
    },
    {
      "cell_type": "code",
      "metadata": {
        "id": "LM6yd5-3YI74",
        "colab_type": "code",
        "colab": {}
      },
      "source": [
        ""
      ],
      "execution_count": 0,
      "outputs": []
    }
  ]
}