{
  "nbformat": 4,
  "nbformat_minor": 0,
  "metadata": {
    "kernelspec": {
      "display_name": "Python 3",
      "language": "python",
      "name": "python3"
    },
    "language_info": {
      "codemirror_mode": {
        "name": "ipython",
        "version": 3
      },
      "file_extension": ".py",
      "mimetype": "text/x-python",
      "name": "python",
      "nbconvert_exporter": "python",
      "pygments_lexer": "ipython3",
      "version": "3.7.3"
    },
    "colab": {
      "name": "ANN.ipynb",
      "version": "0.3.2",
      "provenance": [],
      "collapsed_sections": [],
      "include_colab_link": true
    }
  },
  "cells": [
    {
      "cell_type": "markdown",
      "metadata": {
        "id": "view-in-github",
        "colab_type": "text"
      },
      "source": [
        "<a href=\"https://colab.research.google.com/github/hemant5668/deep-learning/blob/master/ANN.ipynb\" target=\"_parent\"><img src=\"https://colab.research.google.com/assets/colab-badge.svg\" alt=\"Open In Colab\"/></a>"
      ]
    },
    {
      "cell_type": "markdown",
      "metadata": {
        "id": "tJHLCbj1zysz",
        "colab_type": "text"
      },
      "source": [
        "\n",
        "# part 1 Data Processing"
      ]
    },
    {
      "cell_type": "code",
      "metadata": {
        "id": "kicCTo37zys9",
        "colab_type": "code",
        "colab": {}
      },
      "source": [
        "import pandas as pd\n",
        "import numpy as np\n",
        "import matplotlib.pyplot as plt\n"
      ],
      "execution_count": 0,
      "outputs": []
    },
    {
      "cell_type": "code",
      "metadata": {
        "id": "Ekh_GAm9z8aO",
        "colab_type": "code",
        "outputId": "8843cb73-eb7c-450b-dac8-c80fee8f3ab3",
        "colab": {
          "resources": {
            "http://localhost:8080/nbextensions/google.colab/files.js": {
              "data": "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",
              "ok": true,
              "headers": [
                [
                  "content-type",
                  "application/javascript"
                ]
              ],
              "status": 200,
              "status_text": "OK"
            }
          },
          "base_uri": "https://localhost:8080/",
          "height": 75
        }
      },
      "source": [
        "from google.colab import files\n",
        "uploaded = files.upload()"
      ],
      "execution_count": 5,
      "outputs": [
        {
          "output_type": "display_data",
          "data": {
            "text/html": [
              "\n",
              "     <input type=\"file\" id=\"files-650fedc7-e50a-4264-9e0c-2b06f2678411\" name=\"files[]\" multiple disabled />\n",
              "     <output id=\"result-650fedc7-e50a-4264-9e0c-2b06f2678411\">\n",
              "      Upload widget is only available when the cell has been executed in the\n",
              "      current browser session. Please rerun this cell to enable.\n",
              "      </output>\n",
              "      <script src=\"/nbextensions/google.colab/files.js\"></script> "
            ],
            "text/plain": [
              "<IPython.core.display.HTML object>"
            ]
          },
          "metadata": {
            "tags": []
          }
        },
        {
          "output_type": "stream",
          "text": [
            "Saving Churn_Modelling.csv to Churn_Modelling (1).csv\n"
          ],
          "name": "stdout"
        }
      ]
    },
    {
      "cell_type": "code",
      "metadata": {
        "id": "wqmtulp9Ev6f",
        "colab_type": "code",
        "colab": {}
      },
      "source": [
        ""
      ],
      "execution_count": 0,
      "outputs": []
    },
    {
      "cell_type": "code",
      "metadata": {
        "id": "sHr3X52OzytU",
        "colab_type": "code",
        "colab": {}
      },
      "source": [
        "import io\n",
        "dataset = pd.read_csv(io.BytesIO(uploaded['Churn_Modelling.csv']))"
      ],
      "execution_count": 0,
      "outputs": []
    },
    {
      "cell_type": "code",
      "metadata": {
        "id": "1jgj6Cuwzyth",
        "colab_type": "code",
        "outputId": "3b0255fc-8111-4a6c-9cca-763b9e4fdafa",
        "colab": {
          "base_uri": "https://localhost:8080/",
          "height": 226
        }
      },
      "source": [
        "dataset.head(5)"
      ],
      "execution_count": 7,
      "outputs": [
        {
          "output_type": "execute_result",
          "data": {
            "text/html": [
              "<div>\n",
              "<style scoped>\n",
              "    .dataframe tbody tr th:only-of-type {\n",
              "        vertical-align: middle;\n",
              "    }\n",
              "\n",
              "    .dataframe tbody tr th {\n",
              "        vertical-align: top;\n",
              "    }\n",
              "\n",
              "    .dataframe thead th {\n",
              "        text-align: right;\n",
              "    }\n",
              "</style>\n",
              "<table border=\"1\" class=\"dataframe\">\n",
              "  <thead>\n",
              "    <tr style=\"text-align: right;\">\n",
              "      <th></th>\n",
              "      <th>RowNumber</th>\n",
              "      <th>CustomerId</th>\n",
              "      <th>Surname</th>\n",
              "      <th>CreditScore</th>\n",
              "      <th>Geography</th>\n",
              "      <th>Gender</th>\n",
              "      <th>Age</th>\n",
              "      <th>Tenure</th>\n",
              "      <th>Balance</th>\n",
              "      <th>NumOfProducts</th>\n",
              "      <th>HasCrCard</th>\n",
              "      <th>IsActiveMember</th>\n",
              "      <th>EstimatedSalary</th>\n",
              "      <th>Exited</th>\n",
              "    </tr>\n",
              "  </thead>\n",
              "  <tbody>\n",
              "    <tr>\n",
              "      <th>0</th>\n",
              "      <td>1</td>\n",
              "      <td>15634602</td>\n",
              "      <td>Hargrave</td>\n",
              "      <td>619</td>\n",
              "      <td>France</td>\n",
              "      <td>Female</td>\n",
              "      <td>42</td>\n",
              "      <td>2</td>\n",
              "      <td>0.00</td>\n",
              "      <td>1</td>\n",
              "      <td>1</td>\n",
              "      <td>1</td>\n",
              "      <td>101348.88</td>\n",
              "      <td>1</td>\n",
              "    </tr>\n",
              "    <tr>\n",
              "      <th>1</th>\n",
              "      <td>2</td>\n",
              "      <td>15647311</td>\n",
              "      <td>Hill</td>\n",
              "      <td>608</td>\n",
              "      <td>Spain</td>\n",
              "      <td>Female</td>\n",
              "      <td>41</td>\n",
              "      <td>1</td>\n",
              "      <td>83807.86</td>\n",
              "      <td>1</td>\n",
              "      <td>0</td>\n",
              "      <td>1</td>\n",
              "      <td>112542.58</td>\n",
              "      <td>0</td>\n",
              "    </tr>\n",
              "    <tr>\n",
              "      <th>2</th>\n",
              "      <td>3</td>\n",
              "      <td>15619304</td>\n",
              "      <td>Onio</td>\n",
              "      <td>502</td>\n",
              "      <td>France</td>\n",
              "      <td>Female</td>\n",
              "      <td>42</td>\n",
              "      <td>8</td>\n",
              "      <td>159660.80</td>\n",
              "      <td>3</td>\n",
              "      <td>1</td>\n",
              "      <td>0</td>\n",
              "      <td>113931.57</td>\n",
              "      <td>1</td>\n",
              "    </tr>\n",
              "    <tr>\n",
              "      <th>3</th>\n",
              "      <td>4</td>\n",
              "      <td>15701354</td>\n",
              "      <td>Boni</td>\n",
              "      <td>699</td>\n",
              "      <td>France</td>\n",
              "      <td>Female</td>\n",
              "      <td>39</td>\n",
              "      <td>1</td>\n",
              "      <td>0.00</td>\n",
              "      <td>2</td>\n",
              "      <td>0</td>\n",
              "      <td>0</td>\n",
              "      <td>93826.63</td>\n",
              "      <td>0</td>\n",
              "    </tr>\n",
              "    <tr>\n",
              "      <th>4</th>\n",
              "      <td>5</td>\n",
              "      <td>15737888</td>\n",
              "      <td>Mitchell</td>\n",
              "      <td>850</td>\n",
              "      <td>Spain</td>\n",
              "      <td>Female</td>\n",
              "      <td>43</td>\n",
              "      <td>2</td>\n",
              "      <td>125510.82</td>\n",
              "      <td>1</td>\n",
              "      <td>1</td>\n",
              "      <td>1</td>\n",
              "      <td>79084.10</td>\n",
              "      <td>0</td>\n",
              "    </tr>\n",
              "  </tbody>\n",
              "</table>\n",
              "</div>"
            ],
            "text/plain": [
              "   RowNumber  CustomerId   Surname  ...  IsActiveMember EstimatedSalary Exited\n",
              "0          1    15634602  Hargrave  ...               1       101348.88      1\n",
              "1          2    15647311      Hill  ...               1       112542.58      0\n",
              "2          3    15619304      Onio  ...               0       113931.57      1\n",
              "3          4    15701354      Boni  ...               0        93826.63      0\n",
              "4          5    15737888  Mitchell  ...               1        79084.10      0\n",
              "\n",
              "[5 rows x 14 columns]"
            ]
          },
          "metadata": {
            "tags": []
          },
          "execution_count": 7
        }
      ]
    },
    {
      "cell_type": "code",
      "metadata": {
        "id": "-JV21Uf0zytt",
        "colab_type": "code",
        "colab": {}
      },
      "source": [
        "x=dataset.iloc[ : ,3:13].values\n",
        "y=dataset.iloc[ : ,13].values"
      ],
      "execution_count": 0,
      "outputs": []
    },
    {
      "cell_type": "code",
      "metadata": {
        "id": "PZo3SYgvzyt4",
        "colab_type": "code",
        "outputId": "0f0f53e5-06f9-4aa5-9347-fbf3a7f75293",
        "colab": {
          "base_uri": "https://localhost:8080/",
          "height": 146
        }
      },
      "source": [
        "from sklearn.preprocessing import LabelEncoder,OneHotEncoder\n",
        "labelencoder1=LabelEncoder()\n",
        "x[:,1]=labelencoder1.fit_transform(x[:,1])\n",
        "labelencoder2=LabelEncoder()\n",
        "x[:,2]=labelencoder2.fit_transform(x[:,2])\n",
        "onehotencoder=OneHotEncoder(categorical_features=[1])\n",
        "x=onehotencoder.fit_transform(x).toarray()\n"
      ],
      "execution_count": 10,
      "outputs": [
        {
          "output_type": "stream",
          "text": [
            "/usr/local/lib/python3.6/dist-packages/sklearn/preprocessing/_encoders.py:415: FutureWarning: The handling of integer data will change in version 0.22. Currently, the categories are determined based on the range [0, max(values)], while in the future they will be determined based on the unique values.\n",
            "If you want the future behaviour and silence this warning, you can specify \"categories='auto'\".\n",
            "In case you used a LabelEncoder before this OneHotEncoder to convert the categories to integers, then you can now use the OneHotEncoder directly.\n",
            "  warnings.warn(msg, FutureWarning)\n",
            "/usr/local/lib/python3.6/dist-packages/sklearn/preprocessing/_encoders.py:451: DeprecationWarning: The 'categorical_features' keyword is deprecated in version 0.20 and will be removed in 0.22. You can use the ColumnTransformer instead.\n",
            "  \"use the ColumnTransformer instead.\", DeprecationWarning)\n"
          ],
          "name": "stderr"
        }
      ]
    },
    {
      "cell_type": "code",
      "metadata": {
        "id": "4iOncOpdzyuB",
        "colab_type": "code",
        "colab": {}
      },
      "source": [
        "X=x[ : ,1:]"
      ],
      "execution_count": 0,
      "outputs": []
    },
    {
      "cell_type": "code",
      "metadata": {
        "id": "NGXMWU8a1oFC",
        "colab_type": "code",
        "colab": {}
      },
      "source": [
        "#split the data\n",
        "from sklearn.model_selection import train_test_split\n",
        "x_train,x_test,y_train,y_test=train_test_split(X,y,test_size=0.2)"
      ],
      "execution_count": 0,
      "outputs": []
    },
    {
      "cell_type": "code",
      "metadata": {
        "id": "nvgSYMbr4FiK",
        "colab_type": "code",
        "colab": {}
      },
      "source": [
        "#standardise the data\n",
        "from sklearn.preprocessing import StandardScaler\n",
        "sc=StandardScaler()\n",
        "X_train=sc.fit_transform(x_train)\n",
        "X_test=sc.fit_transform(x_test)"
      ],
      "execution_count": 0,
      "outputs": []
    },
    {
      "cell_type": "code",
      "metadata": {
        "id": "K-dXyrx-EgS2",
        "colab_type": "code",
        "colab": {}
      },
      "source": [
        "import keras"
      ],
      "execution_count": 0,
      "outputs": []
    },
    {
      "cell_type": "code",
      "metadata": {
        "id": "RH3JEMUIEigS",
        "colab_type": "code",
        "colab": {}
      },
      "source": [
        "from keras.models import Sequential\n",
        "from keras.layers import Dense"
      ],
      "execution_count": 0,
      "outputs": []
    },
    {
      "cell_type": "code",
      "metadata": {
        "id": "hK3mz6QSLZgq",
        "colab_type": "code",
        "colab": {}
      },
      "source": [
        "classifier=Sequential()"
      ],
      "execution_count": 0,
      "outputs": []
    },
    {
      "cell_type": "code",
      "metadata": {
        "id": "XTdGp67cHgLL",
        "colab_type": "code",
        "colab": {}
      },
      "source": [
        "#input layer and first hidden layer\n",
        "classifier.add(Dense(6,activation='relu',kernel_initializer='uniform',input_dim=11))"
      ],
      "execution_count": 0,
      "outputs": []
    },
    {
      "cell_type": "code",
      "metadata": {
        "id": "jJmnOSX3LPEN",
        "colab_type": "code",
        "colab": {}
      },
      "source": [
        "#second hidden layer\n",
        "classifier.add(Dense(6,activation='relu',kernel_initializer='uniform'))"
      ],
      "execution_count": 0,
      "outputs": []
    },
    {
      "cell_type": "code",
      "metadata": {
        "id": "VRSXSe3BN6F3",
        "colab_type": "code",
        "colab": {}
      },
      "source": [
        "#output layer\n",
        "classifier.add(Dense(1,activation='sigmoid',kernel_initializer='uniform'))"
      ],
      "execution_count": 0,
      "outputs": []
    },
    {
      "cell_type": "code",
      "metadata": {
        "id": "yTApTLLnPLEm",
        "colab_type": "code",
        "colab": {}
      },
      "source": [
        "classifier.compile(optimizer='adam',loss='binary_crossentropy',metrics=['accuracy'])"
      ],
      "execution_count": 0,
      "outputs": []
    },
    {
      "cell_type": "code",
      "metadata": {
        "id": "bVx4FXXIUtfC",
        "colab_type": "code",
        "colab": {
          "base_uri": "https://localhost:8080/",
          "height": 1000
        },
        "outputId": "8337fb4b-3e23-4ec7-8542-8cf91c4a2e14"
      },
      "source": [
        "classifier.fit(X_train,y_train,batch_size=10,epochs=100)"
      ],
      "execution_count": 41,
      "outputs": [
        {
          "output_type": "stream",
          "text": [
            "W0818 20:13:59.643906 139769793091456 deprecation_wrapper.py:119] From /usr/local/lib/python3.6/dist-packages/keras/backend/tensorflow_backend.py:986: The name tf.assign_add is deprecated. Please use tf.compat.v1.assign_add instead.\n",
            "\n"
          ],
          "name": "stderr"
        },
        {
          "output_type": "stream",
          "text": [
            "Epoch 1/100\n",
            "8000/8000 [==============================] - 2s 209us/step - loss: 0.4893 - acc: 0.7975\n",
            "Epoch 2/100\n",
            "8000/8000 [==============================] - 1s 116us/step - loss: 0.4285 - acc: 0.7976\n",
            "Epoch 3/100\n",
            "8000/8000 [==============================] - 1s 115us/step - loss: 0.4241 - acc: 0.7976\n",
            "Epoch 4/100\n",
            "8000/8000 [==============================] - 1s 112us/step - loss: 0.4200 - acc: 0.8052\n",
            "Epoch 5/100\n",
            "8000/8000 [==============================] - 1s 113us/step - loss: 0.4162 - acc: 0.8239\n",
            "Epoch 6/100\n",
            "8000/8000 [==============================] - 1s 112us/step - loss: 0.4136 - acc: 0.8284\n",
            "Epoch 7/100\n",
            "8000/8000 [==============================] - 1s 112us/step - loss: 0.4117 - acc: 0.8300\n",
            "Epoch 8/100\n",
            "8000/8000 [==============================] - 1s 112us/step - loss: 0.4101 - acc: 0.8325\n",
            "Epoch 9/100\n",
            "8000/8000 [==============================] - 1s 112us/step - loss: 0.4090 - acc: 0.8336\n",
            "Epoch 10/100\n",
            "8000/8000 [==============================] - 1s 116us/step - loss: 0.4077 - acc: 0.8329\n",
            "Epoch 11/100\n",
            "8000/8000 [==============================] - 1s 117us/step - loss: 0.4071 - acc: 0.8327\n",
            "Epoch 12/100\n",
            "8000/8000 [==============================] - 1s 116us/step - loss: 0.4061 - acc: 0.8336\n",
            "Epoch 13/100\n",
            "8000/8000 [==============================] - 1s 116us/step - loss: 0.4058 - acc: 0.8335\n",
            "Epoch 14/100\n",
            "8000/8000 [==============================] - 1s 116us/step - loss: 0.4053 - acc: 0.8354\n",
            "Epoch 15/100\n",
            "8000/8000 [==============================] - 1s 117us/step - loss: 0.4048 - acc: 0.8344\n",
            "Epoch 16/100\n",
            "8000/8000 [==============================] - 1s 116us/step - loss: 0.4043 - acc: 0.8334\n",
            "Epoch 17/100\n",
            "8000/8000 [==============================] - 1s 117us/step - loss: 0.4037 - acc: 0.8329\n",
            "Epoch 18/100\n",
            "8000/8000 [==============================] - 1s 116us/step - loss: 0.4034 - acc: 0.8359\n",
            "Epoch 19/100\n",
            "8000/8000 [==============================] - 1s 116us/step - loss: 0.4034 - acc: 0.8354\n",
            "Epoch 20/100\n",
            "8000/8000 [==============================] - 1s 114us/step - loss: 0.4031 - acc: 0.8345\n",
            "Epoch 21/100\n",
            "8000/8000 [==============================] - 1s 119us/step - loss: 0.4032 - acc: 0.8357\n",
            "Epoch 22/100\n",
            "8000/8000 [==============================] - 1s 118us/step - loss: 0.4029 - acc: 0.8346\n",
            "Epoch 23/100\n",
            "8000/8000 [==============================] - 1s 116us/step - loss: 0.4022 - acc: 0.8330\n",
            "Epoch 24/100\n",
            "8000/8000 [==============================] - 1s 117us/step - loss: 0.4023 - acc: 0.8347\n",
            "Epoch 25/100\n",
            "8000/8000 [==============================] - 1s 116us/step - loss: 0.4021 - acc: 0.8341\n",
            "Epoch 26/100\n",
            "8000/8000 [==============================] - 1s 116us/step - loss: 0.4012 - acc: 0.8355\n",
            "Epoch 27/100\n",
            "8000/8000 [==============================] - 1s 116us/step - loss: 0.4014 - acc: 0.8331\n",
            "Epoch 28/100\n",
            "8000/8000 [==============================] - 1s 115us/step - loss: 0.4016 - acc: 0.8345\n",
            "Epoch 29/100\n",
            "8000/8000 [==============================] - 1s 116us/step - loss: 0.4010 - acc: 0.8346\n",
            "Epoch 30/100\n",
            "8000/8000 [==============================] - 1s 115us/step - loss: 0.4009 - acc: 0.8336\n",
            "Epoch 31/100\n",
            "8000/8000 [==============================] - 1s 116us/step - loss: 0.4002 - acc: 0.8366\n",
            "Epoch 32/100\n",
            "8000/8000 [==============================] - 1s 116us/step - loss: 0.4004 - acc: 0.8362\n",
            "Epoch 33/100\n",
            "8000/8000 [==============================] - 1s 119us/step - loss: 0.4000 - acc: 0.8339\n",
            "Epoch 34/100\n",
            "8000/8000 [==============================] - 1s 118us/step - loss: 0.4002 - acc: 0.8355\n",
            "Epoch 35/100\n",
            "8000/8000 [==============================] - 1s 116us/step - loss: 0.4000 - acc: 0.8362\n",
            "Epoch 36/100\n",
            "8000/8000 [==============================] - 1s 117us/step - loss: 0.3999 - acc: 0.8346\n",
            "Epoch 37/100\n",
            "8000/8000 [==============================] - 1s 117us/step - loss: 0.3993 - acc: 0.8376\n",
            "Epoch 38/100\n",
            "8000/8000 [==============================] - 1s 116us/step - loss: 0.3992 - acc: 0.8351\n",
            "Epoch 39/100\n",
            "8000/8000 [==============================] - 1s 117us/step - loss: 0.3994 - acc: 0.8341\n",
            "Epoch 40/100\n",
            "8000/8000 [==============================] - 1s 116us/step - loss: 0.3993 - acc: 0.8362\n",
            "Epoch 41/100\n",
            "8000/8000 [==============================] - 1s 118us/step - loss: 0.3987 - acc: 0.8349\n",
            "Epoch 42/100\n",
            "8000/8000 [==============================] - 1s 117us/step - loss: 0.3989 - acc: 0.8360\n",
            "Epoch 43/100\n",
            "8000/8000 [==============================] - 1s 116us/step - loss: 0.3988 - acc: 0.8379\n",
            "Epoch 44/100\n",
            "8000/8000 [==============================] - 1s 117us/step - loss: 0.3986 - acc: 0.8384\n",
            "Epoch 45/100\n",
            "8000/8000 [==============================] - 1s 117us/step - loss: 0.3989 - acc: 0.8362\n",
            "Epoch 46/100\n",
            "8000/8000 [==============================] - 1s 115us/step - loss: 0.3987 - acc: 0.8384\n",
            "Epoch 47/100\n",
            "8000/8000 [==============================] - 1s 116us/step - loss: 0.3985 - acc: 0.8355\n",
            "Epoch 48/100\n",
            "8000/8000 [==============================] - 1s 117us/step - loss: 0.3989 - acc: 0.8356\n",
            "Epoch 49/100\n",
            "8000/8000 [==============================] - 1s 118us/step - loss: 0.3984 - acc: 0.8364\n",
            "Epoch 50/100\n",
            "8000/8000 [==============================] - 1s 117us/step - loss: 0.3984 - acc: 0.8372\n",
            "Epoch 51/100\n",
            "8000/8000 [==============================] - 1s 114us/step - loss: 0.3979 - acc: 0.8372\n",
            "Epoch 52/100\n",
            "8000/8000 [==============================] - 1s 117us/step - loss: 0.3983 - acc: 0.8367\n",
            "Epoch 53/100\n",
            "8000/8000 [==============================] - 1s 116us/step - loss: 0.3982 - acc: 0.8370\n",
            "Epoch 54/100\n",
            "8000/8000 [==============================] - 1s 117us/step - loss: 0.3979 - acc: 0.8352\n",
            "Epoch 55/100\n",
            "8000/8000 [==============================] - 1s 120us/step - loss: 0.3979 - acc: 0.8395\n",
            "Epoch 56/100\n",
            "8000/8000 [==============================] - 1s 116us/step - loss: 0.3980 - acc: 0.8375\n",
            "Epoch 57/100\n",
            "8000/8000 [==============================] - 1s 117us/step - loss: 0.3979 - acc: 0.8386\n",
            "Epoch 58/100\n",
            "8000/8000 [==============================] - 1s 115us/step - loss: 0.3979 - acc: 0.8364\n",
            "Epoch 59/100\n",
            "8000/8000 [==============================] - 1s 117us/step - loss: 0.3981 - acc: 0.8375\n",
            "Epoch 60/100\n",
            "8000/8000 [==============================] - 1s 116us/step - loss: 0.3978 - acc: 0.8370\n",
            "Epoch 61/100\n",
            "8000/8000 [==============================] - 1s 116us/step - loss: 0.3978 - acc: 0.8361\n",
            "Epoch 62/100\n",
            "8000/8000 [==============================] - 1s 115us/step - loss: 0.3978 - acc: 0.8365\n",
            "Epoch 63/100\n",
            "8000/8000 [==============================] - 1s 118us/step - loss: 0.3978 - acc: 0.8351\n",
            "Epoch 64/100\n",
            "8000/8000 [==============================] - 1s 125us/step - loss: 0.3975 - acc: 0.8371\n",
            "Epoch 65/100\n",
            "8000/8000 [==============================] - 1s 126us/step - loss: 0.3980 - acc: 0.8365\n",
            "Epoch 66/100\n",
            "8000/8000 [==============================] - 1s 130us/step - loss: 0.3977 - acc: 0.8385\n",
            "Epoch 67/100\n",
            "8000/8000 [==============================] - 1s 125us/step - loss: 0.3976 - acc: 0.8366\n",
            "Epoch 68/100\n",
            "8000/8000 [==============================] - 1s 125us/step - loss: 0.3976 - acc: 0.8376\n",
            "Epoch 69/100\n",
            "8000/8000 [==============================] - 1s 126us/step - loss: 0.3977 - acc: 0.8376\n",
            "Epoch 70/100\n",
            "8000/8000 [==============================] - 1s 130us/step - loss: 0.3974 - acc: 0.8357\n",
            "Epoch 71/100\n",
            "8000/8000 [==============================] - 1s 126us/step - loss: 0.3974 - acc: 0.8379\n",
            "Epoch 72/100\n",
            "8000/8000 [==============================] - 1s 129us/step - loss: 0.3975 - acc: 0.8339\n",
            "Epoch 73/100\n",
            "8000/8000 [==============================] - 1s 125us/step - loss: 0.3978 - acc: 0.8372\n",
            "Epoch 74/100\n",
            "8000/8000 [==============================] - 1s 120us/step - loss: 0.3973 - acc: 0.8355\n",
            "Epoch 75/100\n",
            "8000/8000 [==============================] - 1s 117us/step - loss: 0.3974 - acc: 0.8387\n",
            "Epoch 76/100\n",
            "8000/8000 [==============================] - 1s 117us/step - loss: 0.3974 - acc: 0.8354\n",
            "Epoch 77/100\n",
            "8000/8000 [==============================] - 1s 119us/step - loss: 0.3969 - acc: 0.8384\n",
            "Epoch 78/100\n",
            "8000/8000 [==============================] - 1s 118us/step - loss: 0.3970 - acc: 0.8392\n",
            "Epoch 79/100\n",
            "8000/8000 [==============================] - 1s 117us/step - loss: 0.3979 - acc: 0.8362\n",
            "Epoch 80/100\n",
            "8000/8000 [==============================] - 1s 119us/step - loss: 0.3975 - acc: 0.8379\n",
            "Epoch 81/100\n",
            "8000/8000 [==============================] - 1s 117us/step - loss: 0.3974 - acc: 0.8362\n",
            "Epoch 82/100\n",
            "8000/8000 [==============================] - 1s 115us/step - loss: 0.3972 - acc: 0.8381\n",
            "Epoch 83/100\n",
            "8000/8000 [==============================] - 1s 117us/step - loss: 0.3973 - acc: 0.8364\n",
            "Epoch 84/100\n",
            "8000/8000 [==============================] - 1s 115us/step - loss: 0.3972 - acc: 0.8365\n",
            "Epoch 85/100\n",
            "8000/8000 [==============================] - 1s 115us/step - loss: 0.3974 - acc: 0.8362\n",
            "Epoch 86/100\n",
            "8000/8000 [==============================] - 1s 116us/step - loss: 0.3974 - acc: 0.8382\n",
            "Epoch 87/100\n",
            "8000/8000 [==============================] - 1s 116us/step - loss: 0.3972 - acc: 0.8386\n",
            "Epoch 88/100\n",
            "8000/8000 [==============================] - 1s 120us/step - loss: 0.3976 - acc: 0.8367\n",
            "Epoch 89/100\n",
            "8000/8000 [==============================] - 1s 118us/step - loss: 0.3970 - acc: 0.8359\n",
            "Epoch 90/100\n",
            "8000/8000 [==============================] - 1s 117us/step - loss: 0.3971 - acc: 0.8371\n",
            "Epoch 91/100\n",
            "8000/8000 [==============================] - 1s 117us/step - loss: 0.3970 - acc: 0.8367\n",
            "Epoch 92/100\n",
            "8000/8000 [==============================] - 1s 116us/step - loss: 0.3973 - acc: 0.8369\n",
            "Epoch 93/100\n",
            "8000/8000 [==============================] - 1s 117us/step - loss: 0.3970 - acc: 0.8384\n",
            "Epoch 94/100\n",
            "8000/8000 [==============================] - 1s 117us/step - loss: 0.3975 - acc: 0.8372\n",
            "Epoch 95/100\n",
            "8000/8000 [==============================] - 1s 117us/step - loss: 0.3974 - acc: 0.8382\n",
            "Epoch 96/100\n",
            "8000/8000 [==============================] - 1s 117us/step - loss: 0.3973 - acc: 0.8371\n",
            "Epoch 97/100\n",
            "8000/8000 [==============================] - 1s 118us/step - loss: 0.3973 - acc: 0.8376\n",
            "Epoch 98/100\n",
            "8000/8000 [==============================] - 1s 117us/step - loss: 0.3972 - acc: 0.8386\n",
            "Epoch 99/100\n",
            "8000/8000 [==============================] - 1s 118us/step - loss: 0.3974 - acc: 0.8381\n",
            "Epoch 100/100\n",
            "8000/8000 [==============================] - 1s 115us/step - loss: 0.3969 - acc: 0.8367\n"
          ],
          "name": "stdout"
        },
        {
          "output_type": "execute_result",
          "data": {
            "text/plain": [
              "<keras.callbacks.History at 0x7f1e6e5420b8>"
            ]
          },
          "metadata": {
            "tags": []
          },
          "execution_count": 41
        }
      ]
    },
    {
      "cell_type": "code",
      "metadata": {
        "id": "OIfuUz3qW4OF",
        "colab_type": "code",
        "colab": {}
      },
      "source": [
        "y_pred=classifier.predict(X_test)"
      ],
      "execution_count": 0,
      "outputs": []
    },
    {
      "cell_type": "code",
      "metadata": {
        "id": "d40YG1hVaRij",
        "colab_type": "code",
        "colab": {}
      },
      "source": [
        "y_pred=(y_pred>0.5)"
      ],
      "execution_count": 0,
      "outputs": []
    },
    {
      "cell_type": "code",
      "metadata": {
        "id": "BcLLZ0AOaTVd",
        "colab_type": "code",
        "colab": {}
      },
      "source": [
        "from sklearn.metrics import classification_report,confusion_matrix"
      ],
      "execution_count": 0,
      "outputs": []
    },
    {
      "cell_type": "code",
      "metadata": {
        "id": "6mTml8Tha3Wm",
        "colab_type": "code",
        "colab": {
          "base_uri": "https://localhost:8080/",
          "height": 217
        },
        "outputId": "ca513080-4fb3-4aca-f991-24236883ef16"
      },
      "source": [
        "print(confusion_matrix(y_test,y_pred))\n",
        "'\\n'\n",
        "print(classification_report(y_test,y_pred))"
      ],
      "execution_count": 56,
      "outputs": [
        {
          "output_type": "stream",
          "text": [
            "[[1530   52]\n",
            " [ 276  142]]\n",
            "              precision    recall  f1-score   support\n",
            "\n",
            "           0       0.85      0.97      0.90      1582\n",
            "           1       0.73      0.34      0.46       418\n",
            "\n",
            "    accuracy                           0.84      2000\n",
            "   macro avg       0.79      0.65      0.68      2000\n",
            "weighted avg       0.82      0.84      0.81      2000\n",
            "\n"
          ],
          "name": "stdout"
        }
      ]
    },
    {
      "cell_type": "code",
      "metadata": {
        "id": "0ZhgFGZWbPJs",
        "colab_type": "code",
        "colab": {}
      },
      "source": [
        ""
      ],
      "execution_count": 0,
      "outputs": []
    }
  ]
}